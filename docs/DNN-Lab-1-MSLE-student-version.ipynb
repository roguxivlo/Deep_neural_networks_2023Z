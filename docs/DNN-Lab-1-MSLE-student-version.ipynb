{
  "nbformat": 4,
  "nbformat_minor": 0,
  "metadata": {
    "kernelspec": {
      "name": "python3",
      "display_name": "Python 3"
    },
    "colab": {
      "provenance": []
    }
  },
  "cells": [
    {
      "cell_type": "markdown",
      "source": [
        "<center><img src='https://drive.google.com/uc?id=1_utx_ZGclmCwNttSe40kYA6VHzNocdET' height=\"60\"></center>\n",
        "\n",
        "AI TECH - Akademia Innowacyjnych Zastosowań Technologii Cyfrowych. Program Operacyjny Polska Cyfrowa na lata 2014-2020\n",
        "<hr>\n",
        "\n",
        "<center><img src='https://drive.google.com/uc?id=1BXZ0u3562N_MqCLcekI-Ens77Kk4LpPm'></center>\n",
        "\n",
        "<center>\n",
        "Projekt współfinansowany ze środków Unii Europejskiej w ramach Europejskiego Funduszu Rozwoju Regionalnego\n",
        "Program Operacyjny Polska Cyfrowa na lata 2014-2020,\n",
        "Oś Priorytetowa nr 3 \"Cyfrowe kompetencje społeczeństwa\" Działanie  nr 3.2 \"Innowacyjne rozwiązania na rzecz aktywizacji cyfrowej\"\n",
        "Tytuł projektu:  „Akademia Innowacyjnych Zastosowań Technologii Cyfrowych (AI Tech)”\n",
        "    </center>"
      ],
      "metadata": {
        "id": "op6nRS5M-oXX"
      }
    },
    {
      "cell_type": "markdown",
      "metadata": {
        "id": "VqdiMxZx-EoD"
      },
      "source": [
        "# Linear regression\n",
        "\n",
        "In this exercise you will use linear regression to predict flat prices. Training will be handled via gradient descent and we will:\n",
        "* have multiple features (i.e. variables used to make the prediction),\n",
        "* employ some basic feature engineering,\n",
        "* work with a non-standard loss function.\n",
        "\n",
        "Let's start with getting the data."
      ]
    },
    {
      "cell_type": "code",
      "metadata": {
        "id": "heeKjQ2r-EoH"
      },
      "source": [
        "%matplotlib inline\n",
        "\n",
        "!wget -O mieszkania.csv https://www.dropbox.com/s/zey0gx91pna8irj/mieszkania.csv?dl=1\n",
        "!wget -O mieszkania_test.csv https://www.dropbox.com/s/dbrj6sbxb4ayqjz/mieszkania_test.csv?dl=1"
      ],
      "execution_count": null,
      "outputs": []
    },
    {
      "cell_type": "code",
      "metadata": {
        "id": "yI9wFXv5-EoP"
      },
      "source": [
        "!head mieszkania.csv mieszkania_test.csv"
      ],
      "execution_count": null,
      "outputs": []
    },
    {
      "cell_type": "markdown",
      "metadata": {
        "id": "iH8Ut02G-EoU"
      },
      "source": [
        "Each row in the data represents a separate property. Our goal is to use the data from `mieszkania.csv` to create a model that can predict a property's price (i.e. `cena`) given its features (i.e. `m2,dzielnica,ilosc_sypialni,ilosc_lazienek,rok_budowy,parking_podziemny`).\n",
        "\n",
        "From now on, we should interfere only with `mieszkania.csv` (dubbed the training dataset) to make our decisions and create the model. The (only) purpose of `mieszkania_test.csv` is to test our model on **unseen** data.\n",
        "\n",
        "Our predictions should minimize the so-called mean squared logarithmic error:\n",
        "$$\n",
        "MSLE = \\frac{1}{n} \\sum_{i=1}^n (\\log(1+y_i) - \\log(1+p_i))^2,\n",
        "$$\n",
        "where $y_i$ is the ground truth, and $p_i$ is our prediction."
      ]
    },
    {
      "cell_type": "markdown",
      "metadata": {
        "id": "y8QX6Ncr-EoW"
      },
      "source": [
        "Let's start with implementing the loss function."
      ]
    },
    {
      "cell_type": "code",
      "metadata": {
        "id": "JAiB8S9A-EoX"
      },
      "source": [
        "def msle(ys, ps):\n",
        "    assert len(ys) == len(ps)\n",
        "    #################################\n",
        "    # TODO: Implement this function #\n",
        "    #################################\n",
        "    return 0."
      ],
      "execution_count": null,
      "outputs": []
    },
    {
      "cell_type": "markdown",
      "metadata": {
        "id": "zAmd2qLR-Eob"
      },
      "source": [
        "The simplest model is predicting the same constant for each instance. Test your implementation of msle against outputing the mean price."
      ]
    },
    {
      "cell_type": "code",
      "metadata": {
        "id": "b0RT7VW7-Eoc"
      },
      "source": [
        "###################################################\n",
        "# TODO: Compute msle for outputing the mean price #\n",
        "###################################################"
      ],
      "execution_count": null,
      "outputs": []
    },
    {
      "cell_type": "markdown",
      "metadata": {
        "id": "a0zMmTiv-Eof"
      },
      "source": [
        "Recall that outputing the mean minimzes $MSE$. However, we're now dealing with $MSLE$.\n",
        "\n",
        "Think of a constant that should result in the lowest $MSLE$."
      ]
    },
    {
      "cell_type": "code",
      "metadata": {
        "id": "Q0Z4drNd-Eog"
      },
      "source": [
        "#############################################\n",
        "# TODO: Find this constant and compute msle #\n",
        "#############################################"
      ],
      "execution_count": null,
      "outputs": []
    },
    {
      "cell_type": "markdown",
      "metadata": {
        "id": "2RdHlBw8-Eoi"
      },
      "source": [
        "Now, let's implement a standard linear regression model."
      ]
    },
    {
      "cell_type": "code",
      "metadata": {
        "id": "Vn97D3vd-Eoj"
      },
      "source": [
        "##########################################################\n",
        "# TODO: Implement linear regression and compute its msle #\n",
        "##########################################################"
      ],
      "execution_count": null,
      "outputs": []
    },
    {
      "cell_type": "markdown",
      "metadata": {
        "id": "nzrrOte5-Eol"
      },
      "source": [
        "Note that the loss function that the algorithms optimizes (i.e $MSE$) differs from $MSLE$. We've already seen that this may result in a suboptimal solution.\n",
        "\n",
        "How can you change the setting so that we optimze $MSLE$ instead?"
      ]
    },
    {
      "cell_type": "markdown",
      "metadata": {
        "id": "qVD8kWEJ-Eom"
      },
      "source": [
        "Hint:\n",
        "<sub><sup><sub><sup><sub><sup>\n",
        "Be lazy. We don't want to change the algorithm.\n",
        "</sup></sub></sup></sub></sup></sub>"
      ]
    },
    {
      "cell_type": "code",
      "metadata": {
        "id": "MniIPMg8-Eom"
      },
      "source": [
        "#############################################\n",
        "# TODO: Optimize msle and compare the error #\n",
        "#############################################"
      ],
      "execution_count": null,
      "outputs": []
    },
    {
      "cell_type": "markdown",
      "metadata": {
        "id": "OvWrBkLu-Eoo"
      },
      "source": [
        "Without any feature engineering our model approximates the price as a linear combination of original features:\n",
        "$$\n",
        "\\text{price} \\approx w_1 \\cdot \\text{area} + w_2 \\cdot \\text{district} + \\dots.\n",
        "$$\n",
        "Let's now introduce some interactions between the variables. For instance, let's consider a following formula:\n",
        "$$\n",
        "\\text{price} \\approx w_1 \\cdot \\text{area} \\cdot \\text{avg. price in the district per sq. meter} + w_2 \\cdot \\dots + \\dots.\n",
        "$$\n",
        "Here, we model the price with far greater granularity, and we may expect to see more acurate results."
      ]
    },
    {
      "cell_type": "markdown",
      "metadata": {
        "id": "zBM60E7t-Eop"
      },
      "source": [
        "Add some feature engineering to your model. Be sure to play with the data and not with the algorithm's code.\n",
        "\n",
        "Think how to make sure that your model is capable of capturing the $w_1 \\cdot \\text{area} \\cdot \\text{avg. price...}$ part, without actually computing the averages."
      ]
    },
    {
      "cell_type": "markdown",
      "metadata": {
        "id": "XT5DziNC-Eoq"
      },
      "source": [
        "Hint:\n",
        "<sub><sup><sub><sup><sub><sup>\n",
        "Is having a binary encoding for each district and multiplying it by area enough?\n",
        "</sup></sub></sup></sub></sup></sub>"
      ]
    },
    {
      "cell_type": "markdown",
      "metadata": {
        "id": "PKOVCHNz-Eor"
      },
      "source": [
        "Hint 2:\n",
        "<sub><sup><sub><sup><sub><sup>\n",
        "Why not multiply everything together? I.e. (A,B,C) -> (AB,AC,BC).\n",
        "</sup></sub></sup></sub></sup></sub>"
      ]
    },
    {
      "cell_type": "code",
      "metadata": {
        "id": "DPviz09O-Eor"
      },
      "source": [
        "###############################################\n",
        "# TODO: Implement the feature engineering part #\n",
        "###############################################"
      ],
      "execution_count": null,
      "outputs": []
    },
    {
      "cell_type": "code",
      "metadata": {
        "id": "v2Lj1TPr-Eot"
      },
      "source": [
        "##############################################################\n",
        "# TODO: Test your solution on the training and test datasets #\n",
        "##############################################################"
      ],
      "execution_count": null,
      "outputs": []
    }
  ]
}